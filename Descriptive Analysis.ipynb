{
 "cells": [
  {
   "cell_type": "code",
   "execution_count": 1,
   "metadata": {
    "collapsed": true,
    "run_control": {
     "frozen": false,
     "read_only": false
    }
   },
   "outputs": [],
   "source": [
    "swSchools <- read.csv(\"./Social Welfare Schools.csv\")"
   ]
  },
  {
   "cell_type": "code",
   "execution_count": 2,
   "metadata": {
    "collapsed": true
   },
   "outputs": [],
   "source": [
    "library(psych)"
   ]
  },
  {
   "cell_type": "code",
   "execution_count": 3,
   "metadata": {},
   "outputs": [
    {
     "data": {
      "text/html": [
       "<table>\n",
       "<thead><tr><th></th><th scope=col>vars</th><th scope=col>n</th><th scope=col>mean</th><th scope=col>sd</th><th scope=col>median</th><th scope=col>trimmed</th><th scope=col>mad</th><th scope=col>min</th><th scope=col>max</th><th scope=col>range</th><th scope=col>skew</th><th scope=col>kurtosis</th><th scope=col>se</th></tr></thead>\n",
       "<tbody>\n",
       "\t<tr><th scope=row>Districts*</th><td>1           </td><td>31          </td><td>  16.0000000</td><td>   9.0921211</td><td>  16        </td><td>  16.00     </td><td>  11.8608   </td><td>   1        </td><td>  31        </td><td>  30        </td><td>0.0000000   </td><td>-1.31659729 </td><td>  1.6329932 </td></tr>\n",
       "\t<tr><th scope=row>Scheduled.Castes.Schools</th><td>2           </td><td>31          </td><td>   8.4516129</td><td>   3.4913103</td><td>   8        </td><td>   8.08     </td><td>   4.4478   </td><td>   4        </td><td>  17        </td><td>  13        </td><td>0.7335311   </td><td>-0.40005807 </td><td>  0.6270578 </td></tr>\n",
       "\t<tr><th scope=row>Scheduled.Castes.Students</th><td>3           </td><td>31          </td><td>3098.0322581</td><td>1406.8584976</td><td>3155        </td><td>3015.80     </td><td>1476.6696   </td><td>1140        </td><td>5908        </td><td>4768        </td><td>0.4430143   </td><td>-0.90172912 </td><td>252.6792454 </td></tr>\n",
       "\t<tr><th scope=row>Scheduled.Tribes.School</th><td>4           </td><td>31          </td><td>   2.8709677</td><td>   2.5526710</td><td>   3        </td><td>   2.60     </td><td>   2.9652   </td><td>   0        </td><td>   9        </td><td>   9        </td><td>0.6045653   </td><td>-0.55567668 </td><td>  0.4584732 </td></tr>\n",
       "\t<tr><th scope=row>Scheduled.Tribes.Students</th><td>5           </td><td>31          </td><td> 707.0645161</td><td> 777.2655460</td><td> 564        </td><td> 581.20     </td><td> 705.7176   </td><td>   0        </td><td>2960        </td><td>2960        </td><td>1.2196469   </td><td> 0.78771572 </td><td>139.6010131 </td></tr>\n",
       "\t<tr><th scope=row>Backward.Classes.School</th><td>6           </td><td>31          </td><td>   0.7419355</td><td>   0.8550923</td><td>   1        </td><td>   0.64     </td><td>   1.4826   </td><td>   0        </td><td>   3        </td><td>   3        </td><td>0.8004858   </td><td>-0.39867371 </td><td>  0.1535791 </td></tr>\n",
       "\t<tr><th scope=row>Backward.Classes.Students</th><td>7           </td><td>31          </td><td> 267.1612903</td><td> 328.3188589</td><td> 153        </td><td> 217.24     </td><td> 226.8378   </td><td>   0        </td><td>1172        </td><td>1172        </td><td>1.0144078   </td><td> 0.04465952 </td><td> 58.9678078 </td></tr>\n",
       "\t<tr><th scope=row>Minorities.School</th><td>8           </td><td>31          </td><td>   2.2903226</td><td>   1.6969295</td><td>   2        </td><td>   2.12     </td><td>   1.4826   </td><td>   0        </td><td>   8        </td><td>   8        </td><td>1.3401245   </td><td> 2.37386026 </td><td>  0.3047775 </td></tr>\n",
       "\t<tr><th scope=row>Minorities.Students</th><td>9           </td><td>31          </td><td> 404.9677419</td><td> 310.1825789</td><td> 336        </td><td> 365.76     </td><td> 189.7728   </td><td>   0        </td><td>1255        </td><td>1255        </td><td>1.1365007   </td><td> 0.79518275 </td><td> 55.7104358 </td></tr>\n",
       "</tbody>\n",
       "</table>\n"
      ],
      "text/latex": [
       "\\begin{tabular}{r|lllllllllllll}\n",
       "  & vars & n & mean & sd & median & trimmed & mad & min & max & range & skew & kurtosis & se\\\\\n",
       "\\hline\n",
       "\tDistricts* & 1            & 31           &   16.0000000 &    9.0921211 &   16         &   16.00      &   11.8608    &    1         &   31         &   30         & 0.0000000    & -1.31659729  &   1.6329932 \\\\\n",
       "\tScheduled.Castes.Schools & 2            & 31           &    8.4516129 &    3.4913103 &    8         &    8.08      &    4.4478    &    4         &   17         &   13         & 0.7335311    & -0.40005807  &   0.6270578 \\\\\n",
       "\tScheduled.Castes.Students & 3            & 31           & 3098.0322581 & 1406.8584976 & 3155         & 3015.80      & 1476.6696    & 1140         & 5908         & 4768         & 0.4430143    & -0.90172912  & 252.6792454 \\\\\n",
       "\tScheduled.Tribes.School & 4            & 31           &    2.8709677 &    2.5526710 &    3         &    2.60      &    2.9652    &    0         &    9         &    9         & 0.6045653    & -0.55567668  &   0.4584732 \\\\\n",
       "\tScheduled.Tribes.Students & 5            & 31           &  707.0645161 &  777.2655460 &  564         &  581.20      &  705.7176    &    0         & 2960         & 2960         & 1.2196469    &  0.78771572  & 139.6010131 \\\\\n",
       "\tBackward.Classes.School & 6            & 31           &    0.7419355 &    0.8550923 &    1         &    0.64      &    1.4826    &    0         &    3         &    3         & 0.8004858    & -0.39867371  &   0.1535791 \\\\\n",
       "\tBackward.Classes.Students & 7            & 31           &  267.1612903 &  328.3188589 &  153         &  217.24      &  226.8378    &    0         & 1172         & 1172         & 1.0144078    &  0.04465952  &  58.9678078 \\\\\n",
       "\tMinorities.School & 8            & 31           &    2.2903226 &    1.6969295 &    2         &    2.12      &    1.4826    &    0         &    8         &    8         & 1.3401245    &  2.37386026  &   0.3047775 \\\\\n",
       "\tMinorities.Students & 9            & 31           &  404.9677419 &  310.1825789 &  336         &  365.76      &  189.7728    &    0         & 1255         & 1255         & 1.1365007    &  0.79518275  &  55.7104358 \\\\\n",
       "\\end{tabular}\n"
      ],
      "text/markdown": [
       "\n",
       "| <!--/--> | vars | n | mean | sd | median | trimmed | mad | min | max | range | skew | kurtosis | se | \n",
       "|---|---|---|---|---|---|---|---|---|\n",
       "| Districts* | 1            | 31           |   16.0000000 |    9.0921211 |   16         |   16.00      |   11.8608    |    1         |   31         |   30         | 0.0000000    | -1.31659729  |   1.6329932  | \n",
       "| Scheduled.Castes.Schools | 2            | 31           |    8.4516129 |    3.4913103 |    8         |    8.08      |    4.4478    |    4         |   17         |   13         | 0.7335311    | -0.40005807  |   0.6270578  | \n",
       "| Scheduled.Castes.Students | 3            | 31           | 3098.0322581 | 1406.8584976 | 3155         | 3015.80      | 1476.6696    | 1140         | 5908         | 4768         | 0.4430143    | -0.90172912  | 252.6792454  | \n",
       "| Scheduled.Tribes.School | 4            | 31           |    2.8709677 |    2.5526710 |    3         |    2.60      |    2.9652    |    0         |    9         |    9         | 0.6045653    | -0.55567668  |   0.4584732  | \n",
       "| Scheduled.Tribes.Students | 5            | 31           |  707.0645161 |  777.2655460 |  564         |  581.20      |  705.7176    |    0         | 2960         | 2960         | 1.2196469    |  0.78771572  | 139.6010131  | \n",
       "| Backward.Classes.School | 6            | 31           |    0.7419355 |    0.8550923 |    1         |    0.64      |    1.4826    |    0         |    3         |    3         | 0.8004858    | -0.39867371  |   0.1535791  | \n",
       "| Backward.Classes.Students | 7            | 31           |  267.1612903 |  328.3188589 |  153         |  217.24      |  226.8378    |    0         | 1172         | 1172         | 1.0144078    |  0.04465952  |  58.9678078  | \n",
       "| Minorities.School | 8            | 31           |    2.2903226 |    1.6969295 |    2         |    2.12      |    1.4826    |    0         |    8         |    8         | 1.3401245    |  2.37386026  |   0.3047775  | \n",
       "| Minorities.Students | 9            | 31           |  404.9677419 |  310.1825789 |  336         |  365.76      |  189.7728    |    0         | 1255         | 1255         | 1.1365007    |  0.79518275  |  55.7104358  | \n",
       "\n",
       "\n"
      ],
      "text/plain": [
       "                          vars n  mean         sd           median trimmed\n",
       "Districts*                1    31   16.0000000    9.0921211   16     16.00\n",
       "Scheduled.Castes.Schools  2    31    8.4516129    3.4913103    8      8.08\n",
       "Scheduled.Castes.Students 3    31 3098.0322581 1406.8584976 3155   3015.80\n",
       "Scheduled.Tribes.School   4    31    2.8709677    2.5526710    3      2.60\n",
       "Scheduled.Tribes.Students 5    31  707.0645161  777.2655460  564    581.20\n",
       "Backward.Classes.School   6    31    0.7419355    0.8550923    1      0.64\n",
       "Backward.Classes.Students 7    31  267.1612903  328.3188589  153    217.24\n",
       "Minorities.School         8    31    2.2903226    1.6969295    2      2.12\n",
       "Minorities.Students       9    31  404.9677419  310.1825789  336    365.76\n",
       "                          mad       min  max  range skew      kurtosis   \n",
       "Districts*                  11.8608    1   31   30  0.0000000 -1.31659729\n",
       "Scheduled.Castes.Schools     4.4478    4   17   13  0.7335311 -0.40005807\n",
       "Scheduled.Castes.Students 1476.6696 1140 5908 4768  0.4430143 -0.90172912\n",
       "Scheduled.Tribes.School      2.9652    0    9    9  0.6045653 -0.55567668\n",
       "Scheduled.Tribes.Students  705.7176    0 2960 2960  1.2196469  0.78771572\n",
       "Backward.Classes.School      1.4826    0    3    3  0.8004858 -0.39867371\n",
       "Backward.Classes.Students  226.8378    0 1172 1172  1.0144078  0.04465952\n",
       "Minorities.School            1.4826    0    8    8  1.3401245  2.37386026\n",
       "Minorities.Students        189.7728    0 1255 1255  1.1365007  0.79518275\n",
       "                          se         \n",
       "Districts*                  1.6329932\n",
       "Scheduled.Castes.Schools    0.6270578\n",
       "Scheduled.Castes.Students 252.6792454\n",
       "Scheduled.Tribes.School     0.4584732\n",
       "Scheduled.Tribes.Students 139.6010131\n",
       "Backward.Classes.School     0.1535791\n",
       "Backward.Classes.Students  58.9678078\n",
       "Minorities.School           0.3047775\n",
       "Minorities.Students        55.7104358"
      ]
     },
     "metadata": {},
     "output_type": "display_data"
    }
   ],
   "source": [
    "describe(swSchools)"
   ]
  }
 ],
 "metadata": {
  "kernelspec": {
   "display_name": "R",
   "language": "R",
   "name": "ir"
  },
  "language_info": {
   "codemirror_mode": "r",
   "file_extension": ".r",
   "mimetype": "text/x-r-source",
   "name": "R",
   "pygments_lexer": "r",
   "version": "3.4.1"
  }
 },
 "nbformat": 4,
 "nbformat_minor": 2
}
