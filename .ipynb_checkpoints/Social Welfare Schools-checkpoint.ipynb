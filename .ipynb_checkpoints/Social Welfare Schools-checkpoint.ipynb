{
 "cells": [
  {
   "cell_type": "code",
   "execution_count": 3,
   "metadata": {
    "run_control": {
     "frozen": false,
     "read_only": false
    }
   },
   "outputs": [],
   "source": [
    "swSchools <- read.csv(\"./Social Welfare Schools.csv\")"
   ]
  },
  {
   "cell_type": "code",
   "execution_count": 4,
   "metadata": {},
   "outputs": [
    {
     "data": {
      "text/html": [
       "<table>\n",
       "<thead><tr><th scope=col>Districts</th><th scope=col>Scheduled.Castes.Schools</th><th scope=col>Scheduled.Castes.Students</th><th scope=col>Scheduled.Tribes.School</th><th scope=col>Scheduled.Tribes.Students</th><th scope=col>Backward.Classes.School</th><th scope=col>Backward.Classes.Students</th><th scope=col>Minorities.School</th><th scope=col>Minorities.Students</th></tr></thead>\n",
       "<tbody>\n",
       "\t<tr><td>ADILABAD    </td><td>4           </td><td>1484        </td><td>6           </td><td>2047        </td><td>1           </td><td>354         </td><td>2           </td><td> 230        </td></tr>\n",
       "\t<tr><td>BHADRADRI   </td><td>9           </td><td>3295        </td><td>9           </td><td>2960        </td><td>0           </td><td>  0         </td><td>2           </td><td> 440        </td></tr>\n",
       "\t<tr><td>HYDERABAD   </td><td>4           </td><td>1954        </td><td>0           </td><td>   0        </td><td>0           </td><td>  0         </td><td>8           </td><td>1197        </td></tr>\n",
       "\t<tr><td>JAGTIAL     </td><td>5           </td><td>1140        </td><td>0           </td><td>   0        </td><td>0           </td><td>  0         </td><td>2           </td><td> 407        </td></tr>\n",
       "\t<tr><td>JANGAON     </td><td>5           </td><td>2695        </td><td>1           </td><td>  97        </td><td>0           </td><td>  0         </td><td>1           </td><td> 111        </td></tr>\n",
       "\t<tr><td>JAYASHANKAR </td><td>6           </td><td>1613        </td><td>4           </td><td> 984        </td><td>1           </td><td>153         </td><td>0           </td><td>   0        </td></tr>\n",
       "</tbody>\n",
       "</table>\n"
      ],
      "text/latex": [
       "\\begin{tabular}{r|lllllllll}\n",
       " Districts & Scheduled.Castes.Schools & Scheduled.Castes.Students & Scheduled.Tribes.School & Scheduled.Tribes.Students & Backward.Classes.School & Backward.Classes.Students & Minorities.School & Minorities.Students\\\\\n",
       "\\hline\n",
       "\t ADILABAD     & 4            & 1484         & 6            & 2047         & 1            & 354          & 2            &  230        \\\\\n",
       "\t BHADRADRI    & 9            & 3295         & 9            & 2960         & 0            &   0          & 2            &  440        \\\\\n",
       "\t HYDERABAD    & 4            & 1954         & 0            &    0         & 0            &   0          & 8            & 1197        \\\\\n",
       "\t JAGTIAL      & 5            & 1140         & 0            &    0         & 0            &   0          & 2            &  407        \\\\\n",
       "\t JANGAON      & 5            & 2695         & 1            &   97         & 0            &   0          & 1            &  111        \\\\\n",
       "\t JAYASHANKAR  & 6            & 1613         & 4            &  984         & 1            & 153          & 0            &    0        \\\\\n",
       "\\end{tabular}\n"
      ],
      "text/markdown": [
       "\n",
       "Districts | Scheduled.Castes.Schools | Scheduled.Castes.Students | Scheduled.Tribes.School | Scheduled.Tribes.Students | Backward.Classes.School | Backward.Classes.Students | Minorities.School | Minorities.Students | \n",
       "|---|---|---|---|---|---|\n",
       "| ADILABAD     | 4            | 1484         | 6            | 2047         | 1            | 354          | 2            |  230         | \n",
       "| BHADRADRI    | 9            | 3295         | 9            | 2960         | 0            |   0          | 2            |  440         | \n",
       "| HYDERABAD    | 4            | 1954         | 0            |    0         | 0            |   0          | 8            | 1197         | \n",
       "| JAGTIAL      | 5            | 1140         | 0            |    0         | 0            |   0          | 2            |  407         | \n",
       "| JANGAON      | 5            | 2695         | 1            |   97         | 0            |   0          | 1            |  111         | \n",
       "| JAYASHANKAR  | 6            | 1613         | 4            |  984         | 1            | 153          | 0            |    0         | \n",
       "\n",
       "\n"
      ],
      "text/plain": [
       "  Districts    Scheduled.Castes.Schools Scheduled.Castes.Students\n",
       "1 ADILABAD     4                        1484                     \n",
       "2 BHADRADRI    9                        3295                     \n",
       "3 HYDERABAD    4                        1954                     \n",
       "4 JAGTIAL      5                        1140                     \n",
       "5 JANGAON      5                        2695                     \n",
       "6 JAYASHANKAR  6                        1613                     \n",
       "  Scheduled.Tribes.School Scheduled.Tribes.Students Backward.Classes.School\n",
       "1 6                       2047                      1                      \n",
       "2 9                       2960                      0                      \n",
       "3 0                          0                      0                      \n",
       "4 0                          0                      0                      \n",
       "5 1                         97                      0                      \n",
       "6 4                        984                      1                      \n",
       "  Backward.Classes.Students Minorities.School Minorities.Students\n",
       "1 354                       2                  230               \n",
       "2   0                       2                  440               \n",
       "3   0                       8                 1197               \n",
       "4   0                       2                  407               \n",
       "5   0                       1                  111               \n",
       "6 153                       0                    0               "
      ]
     },
     "metadata": {},
     "output_type": "display_data"
    }
   ],
   "source": [
    "head(swSchools)"
   ]
  }
 ],
 "metadata": {
  "kernelspec": {
   "display_name": "R",
   "language": "R",
   "name": "ir"
  },
  "language_info": {
   "codemirror_mode": "r",
   "file_extension": ".r",
   "mimetype": "text/x-r-source",
   "name": "R",
   "pygments_lexer": "r",
   "version": "3.4.1"
  }
 },
 "nbformat": 4,
 "nbformat_minor": 2
}
