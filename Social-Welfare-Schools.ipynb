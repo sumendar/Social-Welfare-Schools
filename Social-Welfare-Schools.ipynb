{
 "cells": [
  {
   "cell_type": "code",
   "execution_count": 1,
   "metadata": {
    "collapsed": true,
    "run_control": {
     "frozen": false,
     "read_only": false
    }
   },
   "outputs": [],
   "source": [
    "swSchools <- read.csv(\"./Social Welfare Schools.csv\")"
   ]
  },
  {
   "cell_type": "code",
   "execution_count": 2,
   "metadata": {
    "run_control": {
     "frozen": false,
     "read_only": false
    },
    "scrolled": true
   },
   "outputs": [
    {
     "data": {
      "text/html": [
       "<table>\n",
       "<thead><tr><th scope=col>Districts</th><th scope=col>Scheduled.Castes.Schools</th><th scope=col>Scheduled.Castes.Students</th><th scope=col>Scheduled.Tribes.School</th><th scope=col>Scheduled.Tribes.Students</th><th scope=col>Backward.Classes.School</th><th scope=col>Backward.Classes.Students</th><th scope=col>Minorities.School</th><th scope=col>Minorities.Students</th></tr></thead>\n",
       "<tbody>\n",
       "\t<tr><td>ADILABAD    </td><td>4           </td><td>1484        </td><td>6           </td><td>2047        </td><td>1           </td><td>354         </td><td>2           </td><td> 230        </td></tr>\n",
       "\t<tr><td>BHADRADRI   </td><td>9           </td><td>3295        </td><td>9           </td><td>2960        </td><td>0           </td><td>  0         </td><td>2           </td><td> 440        </td></tr>\n",
       "\t<tr><td>HYDERABAD   </td><td>4           </td><td>1954        </td><td>0           </td><td>   0        </td><td>0           </td><td>  0         </td><td>8           </td><td>1197        </td></tr>\n",
       "\t<tr><td>JAGTIAL     </td><td>5           </td><td>1140        </td><td>0           </td><td>   0        </td><td>0           </td><td>  0         </td><td>2           </td><td> 407        </td></tr>\n",
       "\t<tr><td>JANGAON     </td><td>5           </td><td>2695        </td><td>1           </td><td>  97        </td><td>0           </td><td>  0         </td><td>1           </td><td> 111        </td></tr>\n",
       "\t<tr><td>JAYASHANKAR </td><td>6           </td><td>1613        </td><td>4           </td><td> 984        </td><td>1           </td><td>153         </td><td>0           </td><td>   0        </td></tr>\n",
       "</tbody>\n",
       "</table>\n"
      ],
      "text/latex": [
       "\\begin{tabular}{r|lllllllll}\n",
       " Districts & Scheduled.Castes.Schools & Scheduled.Castes.Students & Scheduled.Tribes.School & Scheduled.Tribes.Students & Backward.Classes.School & Backward.Classes.Students & Minorities.School & Minorities.Students\\\\\n",
       "\\hline\n",
       "\t ADILABAD     & 4            & 1484         & 6            & 2047         & 1            & 354          & 2            &  230        \\\\\n",
       "\t BHADRADRI    & 9            & 3295         & 9            & 2960         & 0            &   0          & 2            &  440        \\\\\n",
       "\t HYDERABAD    & 4            & 1954         & 0            &    0         & 0            &   0          & 8            & 1197        \\\\\n",
       "\t JAGTIAL      & 5            & 1140         & 0            &    0         & 0            &   0          & 2            &  407        \\\\\n",
       "\t JANGAON      & 5            & 2695         & 1            &   97         & 0            &   0          & 1            &  111        \\\\\n",
       "\t JAYASHANKAR  & 6            & 1613         & 4            &  984         & 1            & 153          & 0            &    0        \\\\\n",
       "\\end{tabular}\n"
      ],
      "text/markdown": [
       "\n",
       "Districts | Scheduled.Castes.Schools | Scheduled.Castes.Students | Scheduled.Tribes.School | Scheduled.Tribes.Students | Backward.Classes.School | Backward.Classes.Students | Minorities.School | Minorities.Students | \n",
       "|---|---|---|---|---|---|\n",
       "| ADILABAD     | 4            | 1484         | 6            | 2047         | 1            | 354          | 2            |  230         | \n",
       "| BHADRADRI    | 9            | 3295         | 9            | 2960         | 0            |   0          | 2            |  440         | \n",
       "| HYDERABAD    | 4            | 1954         | 0            |    0         | 0            |   0          | 8            | 1197         | \n",
       "| JAGTIAL      | 5            | 1140         | 0            |    0         | 0            |   0          | 2            |  407         | \n",
       "| JANGAON      | 5            | 2695         | 1            |   97         | 0            |   0          | 1            |  111         | \n",
       "| JAYASHANKAR  | 6            | 1613         | 4            |  984         | 1            | 153          | 0            |    0         | \n",
       "\n",
       "\n"
      ],
      "text/plain": [
       "  Districts    Scheduled.Castes.Schools Scheduled.Castes.Students\n",
       "1 ADILABAD     4                        1484                     \n",
       "2 BHADRADRI    9                        3295                     \n",
       "3 HYDERABAD    4                        1954                     \n",
       "4 JAGTIAL      5                        1140                     \n",
       "5 JANGAON      5                        2695                     \n",
       "6 JAYASHANKAR  6                        1613                     \n",
       "  Scheduled.Tribes.School Scheduled.Tribes.Students Backward.Classes.School\n",
       "1 6                       2047                      1                      \n",
       "2 9                       2960                      0                      \n",
       "3 0                          0                      0                      \n",
       "4 0                          0                      0                      \n",
       "5 1                         97                      0                      \n",
       "6 4                        984                      1                      \n",
       "  Backward.Classes.Students Minorities.School Minorities.Students\n",
       "1 354                       2                  230               \n",
       "2   0                       2                  440               \n",
       "3   0                       8                 1197               \n",
       "4   0                       2                  407               \n",
       "5   0                       1                  111               \n",
       "6 153                       0                    0               "
      ]
     },
     "metadata": {},
     "output_type": "display_data"
    }
   ],
   "source": [
    "head(swSchools)"
   ]
  },
  {
   "cell_type": "code",
   "execution_count": 3,
   "metadata": {
    "run_control": {
     "frozen": false,
     "read_only": false
    },
    "scrolled": true
   },
   "outputs": [
    {
     "name": "stdout",
     "output_type": "stream",
     "text": [
      "'data.frame':\t31 obs. of  9 variables:\n",
      " $ Districts                : Factor w/ 31 levels \"ADILABAD\",\"BHADRADRI\",..: 1 2 3 4 5 6 7 8 9 10 ...\n",
      " $ Scheduled.Castes.Schools : int  4 9 4 5 5 6 6 12 8 14 ...\n",
      " $ Scheduled.Castes.Students: int  1484 3295 1954 1140 2695 1613 1626 5462 3185 5394 ...\n",
      " $ Scheduled.Tribes.School  : int  6 9 0 0 1 4 0 4 0 3 ...\n",
      " $ Scheduled.Tribes.Students: int  2047 2960 0 0 97 984 0 703 0 353 ...\n",
      " $ Backward.Classes.School  : int  1 0 0 0 0 1 0 0 2 2 ...\n",
      " $ Backward.Classes.Students: int  354 0 0 0 0 153 0 0 499 844 ...\n",
      " $ Minorities.School        : int  2 2 8 2 1 0 1 2 3 3 ...\n",
      " $ Minorities.Students      : int  230 440 1197 407 111 0 119 336 529 630 ...\n"
     ]
    }
   ],
   "source": [
    "str(swSchools)"
   ]
  },
  {
   "cell_type": "code",
   "execution_count": 4,
   "metadata": {
    "run_control": {
     "frozen": false,
     "read_only": false
    },
    "scrolled": true
   },
   "outputs": [
    {
     "data": {
      "text/plain": [
       "        Districts  Scheduled.Castes.Schools Scheduled.Castes.Students\n",
       " ADILABAD    : 1   Min.   : 4.000           Min.   :1140             \n",
       " BHADRADRI   : 1   1st Qu.: 6.000           1st Qu.:1807             \n",
       " HYDERABAD   : 1   Median : 8.000           Median :3155             \n",
       " JAGTIAL     : 1   Mean   : 8.452           Mean   :3098             \n",
       " JANGAON     : 1   3rd Qu.:11.000           3rd Qu.:3872             \n",
       " JAYASHANKAR : 1   Max.   :17.000           Max.   :5908             \n",
       " (Other)     :25                                                     \n",
       " Scheduled.Tribes.School Scheduled.Tribes.Students Backward.Classes.School\n",
       " Min.   :0.000           Min.   :   0.0            Min.   :0.0000         \n",
       " 1st Qu.:0.500           1st Qu.:  30.0            1st Qu.:0.0000         \n",
       " Median :3.000           Median : 564.0            Median :1.0000         \n",
       " Mean   :2.871           Mean   : 707.1            Mean   :0.7419         \n",
       " 3rd Qu.:4.000           3rd Qu.: 967.5            3rd Qu.:1.0000         \n",
       " Max.   :9.000           Max.   :2960.0            Max.   :3.0000         \n",
       "                                                                          \n",
       " Backward.Classes.Students Minorities.School Minorities.Students\n",
       " Min.   :   0.0            Min.   :0.00      Min.   :   0.0     \n",
       " 1st Qu.:   0.0            1st Qu.:1.00      1st Qu.: 218.5     \n",
       " Median : 153.0            Median :2.00      Median : 336.0     \n",
       " Mean   : 267.2            Mean   :2.29      Mean   : 405.0     \n",
       " 3rd Qu.: 423.0            3rd Qu.:3.00      3rd Qu.: 545.0     \n",
       " Max.   :1172.0            Max.   :8.00      Max.   :1255.0     \n",
       "                                                                "
      ]
     },
     "metadata": {},
     "output_type": "display_data"
    }
   ],
   "source": [
    "summary(swSchools)"
   ]
  },
  {
   "cell_type": "code",
   "execution_count": 7,
   "metadata": {},
   "outputs": [
    {
     "data": {
      "text/html": [
       "<dl>\n",
       "\t<dt>$stats</dt>\n",
       "\t\t<dd><ol class=list-inline>\n",
       "\t<li>4</li>\n",
       "\t<li>6</li>\n",
       "\t<li>8</li>\n",
       "\t<li>11</li>\n",
       "\t<li>17</li>\n",
       "</ol>\n",
       "</dd>\n",
       "\t<dt>$n</dt>\n",
       "\t\t<dd>31</dd>\n",
       "\t<dt>$conf</dt>\n",
       "\t\t<dd><ol class=list-inline>\n",
       "\t<li>6.58111811398848</li>\n",
       "\t<li>9.41888188601152</li>\n",
       "</ol>\n",
       "</dd>\n",
       "\t<dt>$out</dt>\n",
       "\t\t<dd></dd>\n",
       "</dl>\n"
      ],
      "text/latex": [
       "\\begin{description}\n",
       "\\item[\\$stats] \\begin{enumerate*}\n",
       "\\item 4\n",
       "\\item 6\n",
       "\\item 8\n",
       "\\item 11\n",
       "\\item 17\n",
       "\\end{enumerate*}\n",
       "\n",
       "\\item[\\$n] 31\n",
       "\\item[\\$conf] \\begin{enumerate*}\n",
       "\\item 6.58111811398848\n",
       "\\item 9.41888188601152\n",
       "\\end{enumerate*}\n",
       "\n",
       "\\item[\\$out] \n",
       "\\end{description}\n"
      ],
      "text/markdown": [
       "$stats\n",
       ":   1. 4\n",
       "2. 6\n",
       "3. 8\n",
       "4. 11\n",
       "5. 17\n",
       "\n",
       "\n",
       "\n",
       "$n\n",
       ":   31\n",
       "$conf\n",
       ":   1. 6.58111811398848\n",
       "2. 9.41888188601152\n",
       "\n",
       "\n",
       "\n",
       "$out\n",
       ":   \n",
       "\n",
       "\n"
      ],
      "text/plain": [
       "$stats\n",
       "[1]  4  6  8 11 17\n",
       "\n",
       "$n\n",
       "[1] 31\n",
       "\n",
       "$conf\n",
       "[1] 6.581118 9.418882\n",
       "\n",
       "$out\n",
       "integer(0)\n"
      ]
     },
     "metadata": {},
     "output_type": "display_data"
    },
    {
     "data": {
      "text/html": [
       "<dl>\n",
       "\t<dt>$stats</dt>\n",
       "\t\t<dd><ol class=list-inline>\n",
       "\t<li>0</li>\n",
       "\t<li>0.5</li>\n",
       "\t<li>3</li>\n",
       "\t<li>4</li>\n",
       "\t<li>9</li>\n",
       "</ol>\n",
       "</dd>\n",
       "\t<dt>$n</dt>\n",
       "\t\t<dd>31</dd>\n",
       "\t<dt>$conf</dt>\n",
       "\t\t<dd><ol class=list-inline>\n",
       "\t<li>2.00678267979193</li>\n",
       "\t<li>3.99321732020807</li>\n",
       "</ol>\n",
       "</dd>\n",
       "\t<dt>$out</dt>\n",
       "\t\t<dd></dd>\n",
       "</dl>\n"
      ],
      "text/latex": [
       "\\begin{description}\n",
       "\\item[\\$stats] \\begin{enumerate*}\n",
       "\\item 0\n",
       "\\item 0.5\n",
       "\\item 3\n",
       "\\item 4\n",
       "\\item 9\n",
       "\\end{enumerate*}\n",
       "\n",
       "\\item[\\$n] 31\n",
       "\\item[\\$conf] \\begin{enumerate*}\n",
       "\\item 2.00678267979193\n",
       "\\item 3.99321732020807\n",
       "\\end{enumerate*}\n",
       "\n",
       "\\item[\\$out] \n",
       "\\end{description}\n"
      ],
      "text/markdown": [
       "$stats\n",
       ":   1. 0\n",
       "2. 0.5\n",
       "3. 3\n",
       "4. 4\n",
       "5. 9\n",
       "\n",
       "\n",
       "\n",
       "$n\n",
       ":   31\n",
       "$conf\n",
       ":   1. 2.00678267979193\n",
       "2. 3.99321732020807\n",
       "\n",
       "\n",
       "\n",
       "$out\n",
       ":   \n",
       "\n",
       "\n"
      ],
      "text/plain": [
       "$stats\n",
       "[1] 0.0 0.5 3.0 4.0 9.0\n",
       "\n",
       "$n\n",
       "[1] 31\n",
       "\n",
       "$conf\n",
       "[1] 2.006783 3.993217\n",
       "\n",
       "$out\n",
       "integer(0)\n"
      ]
     },
     "metadata": {},
     "output_type": "display_data"
    }
   ],
   "source": [
    "boxplot.stats(swSchools$Scheduled.Castes.Schools)\n",
    "boxplot.stats(swSchools$Scheduled.Tribes.School)"
   ]
  },
  {
   "cell_type": "code",
   "execution_count": 9,
   "metadata": {},
   "outputs": [
    {
     "data": {
      "image/png": "[encoded data removed]",
      "text/plain": [
       "plot without title"
      ]
     },
     "metadata": {},
     "output_type": "display_data"
    }
   ],
   "source": [
    "boxplot(swSchools$Scheduled.Castes.Schools, swSchools$Scheduled.Tribes.School, names = c(\"Scheduled.Castes.Schools\",\"Scheduled.Tribes.School\"))"
   ]
  }
 ],
 "metadata": {
  "kernelspec": {
   "display_name": "R",
   "language": "R",
   "name": "ir"
  },
  "language_info": {
   "codemirror_mode": "r",
   "file_extension": ".r",
   "mimetype": "text/x-r-source",
   "name": "R",
   "pygments_lexer": "r",
   "version": "3.4.1"
  }
 },
 "nbformat": 4,
 "nbformat_minor": 2
}
